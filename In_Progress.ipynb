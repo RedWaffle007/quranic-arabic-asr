{
  "nbformat": 4,
  "nbformat_minor": 0,
  "metadata": {
    "colab": {
      "provenance": []
    },
    "kernelspec": {
      "name": "python3",
      "display_name": "Python 3"
    },
    "language_info": {
      "name": "python"
    }
  },
  "cells": [
    {
      "cell_type": "markdown",
      "source": [
        "2"
      ],
      "metadata": {
        "id": "52MmzJVWz7Yw"
      }
    },
    {
      "cell_type": "code",
      "source": [],
      "metadata": {
        "id": "JMW7XWmHnsJQ"
      },
      "execution_count": null,
      "outputs": []
    }
  ]
}
